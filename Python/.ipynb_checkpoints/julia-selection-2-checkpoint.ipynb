{
 "cells": [
  {
   "cell_type": "code",
   "execution_count": 47,
   "metadata": {},
   "outputs": [],
   "source": [
    "import statsmodels.formula.api as smf\n",
    "from sklearn.model_selection import train_test_split\n",
    "import pandas as pd"
   ]
  },
  {
   "cell_type": "code",
   "execution_count": 40,
   "metadata": {},
   "outputs": [],
   "source": [
    "data = pd.read_csv('../data/dem_with_dummies_renamed.csv')"
   ]
  },
  {
   "cell_type": "code",
   "execution_count": 41,
   "metadata": {},
   "outputs": [],
   "source": [
    "data = data.drop(['Unnamed: 0', 'Candidate', 'State', 'Primary_Vote_Percentage'], axis = 1)"
   ]
  },
  {
   "cell_type": "code",
   "execution_count": 32,
   "metadata": {},
   "outputs": [],
   "source": [
    "colnames = list(data)"
   ]
  },
  {
   "cell_type": "code",
   "execution_count": 42,
   "metadata": {},
   "outputs": [],
   "source": [
    "formula = \"Primary_Status_Advanced ~ \"\n",
    "for name in colnames:\n",
    "    if(name != 'Primary_Status_Advanced'):\n",
    "        formula = formula + name + \" + \""
   ]
  },
  {
   "cell_type": "code",
   "execution_count": 44,
   "metadata": {},
   "outputs": [],
   "source": [
    "formula = formula[0:-3]"
   ]
  },
  {
   "cell_type": "code",
   "execution_count": 62,
   "metadata": {},
   "outputs": [
    {
     "data": {
      "text/plain": [
       "'Primary_Status_Advanced ~ Neutral_Endorsements + Yes_Endorsements + No_Endorsements + Office_Type_Governor + Office_Type_Representative + Office_Type_Senator + Race_Nonwhite + Race_Unknown + Race_White + Veteran__No + Veteran__Unknown + Veteran__Yes + LGBTQ__No + LGBTQ__Unknown + LGBTQ__Yes + Elected_Official__Yes + Self_Funder__Yes + STEM__No + STEM__Unknown + STEM__Yes + Obama_Alum__Yes + Party_Support__Neutral + Party_Support__No + Party_Support__Yes'"
      ]
     },
     "execution_count": 62,
     "metadata": {},
     "output_type": "execute_result"
    }
   ],
   "source": [
    "formula"
   ]
  },
  {
   "cell_type": "code",
   "execution_count": 64,
   "metadata": {},
   "outputs": [],
   "source": [
    "train_features, test_features, train_outcome, test_outcome = train_test_split(\n",
    "    data.drop('Primary_Status_Advanced', axis=1),\n",
    "    data['Primary_Status_Advanced'],\n",
    "    test_size = 0.3,\n",
    "    random_state = 11\n",
    ")"
   ]
  },
  {
   "cell_type": "code",
   "execution_count": 65,
   "metadata": {},
   "outputs": [],
   "source": [
    "train_features['Primary_Status_Advanced'] = (train_outcome).to_frame()"
   ]
  },
  {
   "cell_type": "code",
   "execution_count": 115,
   "metadata": {},
   "outputs": [],
   "source": [
    "formula2 = 'Primary_Status_Advanced ~ Neutral_Endorsements + Yes_Endorsements + Office_Type_Representative + Office_Type_Senator + Race_White + Veteran__Yes + LGBTQ__Unknown + LGBTQ__Yes + Elected_Official__Yes + Self_Funder__Yes + STEM__Yes + Party_Support__No + Party_Support__Yes'\n",
    "\n"
   ]
  },
  {
   "cell_type": "code",
   "execution_count": 116,
   "metadata": {},
   "outputs": [
    {
     "data": {
      "text/html": [
       "<table class=\"simpletable\">\n",
       "<caption>OLS Regression Results</caption>\n",
       "<tr>\n",
       "  <th>Dep. Variable:</th>    <td>Primary_Status_Advanced</td> <th>  R-squared:         </th> <td>   0.258</td>\n",
       "</tr>\n",
       "<tr>\n",
       "  <th>Model:</th>                      <td>OLS</td>           <th>  Adj. R-squared:    </th> <td>   0.242</td>\n",
       "</tr>\n",
       "<tr>\n",
       "  <th>Method:</th>                <td>Least Squares</td>      <th>  F-statistic:       </th> <td>   16.06</td>\n",
       "</tr>\n",
       "<tr>\n",
       "  <th>Date:</th>                <td>Sat, 01 Dec 2018</td>     <th>  Prob (F-statistic):</th> <td>2.08e-29</td>\n",
       "</tr>\n",
       "<tr>\n",
       "  <th>Time:</th>                    <td>16:35:53</td>         <th>  Log-Likelihood:    </th> <td> -294.96</td>\n",
       "</tr>\n",
       "<tr>\n",
       "  <th>No. Observations:</th>         <td>   567</td>          <th>  AIC:               </th> <td>   615.9</td>\n",
       "</tr>\n",
       "<tr>\n",
       "  <th>Df Residuals:</th>             <td>   554</td>          <th>  BIC:               </th> <td>   672.3</td>\n",
       "</tr>\n",
       "<tr>\n",
       "  <th>Df Model:</th>                 <td>    12</td>          <th>                     </th>     <td> </td>   \n",
       "</tr>\n",
       "<tr>\n",
       "  <th>Covariance Type:</th>         <td>nonrobust</td>        <th>                     </th>     <td> </td>   \n",
       "</tr>\n",
       "</table>\n",
       "<table class=\"simpletable\">\n",
       "<tr>\n",
       "               <td></td>                 <th>coef</th>     <th>std err</th>      <th>t</th>      <th>P>|t|</th>  <th>[0.025</th>    <th>0.975]</th>  \n",
       "</tr>\n",
       "<tr>\n",
       "  <th>Intercept</th>                  <td>   -0.6897</td> <td>    0.133</td> <td>   -5.176</td> <td> 0.000</td> <td>   -0.951</td> <td>   -0.428</td>\n",
       "</tr>\n",
       "<tr>\n",
       "  <th>Neutral_Endorsements</th>       <td>    0.0810</td> <td>    0.012</td> <td>    6.710</td> <td> 0.000</td> <td>    0.057</td> <td>    0.105</td>\n",
       "</tr>\n",
       "<tr>\n",
       "  <th>Yes_Endorsements</th>           <td>    0.1701</td> <td>    0.021</td> <td>    8.096</td> <td> 0.000</td> <td>    0.129</td> <td>    0.211</td>\n",
       "</tr>\n",
       "<tr>\n",
       "  <th>Office_Type_Representative</th> <td>    0.1194</td> <td>    0.053</td> <td>    2.248</td> <td> 0.025</td> <td>    0.015</td> <td>    0.224</td>\n",
       "</tr>\n",
       "<tr>\n",
       "  <th>Office_Type_Senator</th>        <td>    0.1369</td> <td>    0.120</td> <td>    1.139</td> <td> 0.255</td> <td>   -0.099</td> <td>    0.373</td>\n",
       "</tr>\n",
       "<tr>\n",
       "  <th>Race_White</th>                 <td>    0.0501</td> <td>    0.036</td> <td>    1.406</td> <td> 0.160</td> <td>   -0.020</td> <td>    0.120</td>\n",
       "</tr>\n",
       "<tr>\n",
       "  <th>Veteran__Yes</th>               <td>   -0.0454</td> <td>    0.048</td> <td>   -0.942</td> <td> 0.347</td> <td>   -0.140</td> <td>    0.049</td>\n",
       "</tr>\n",
       "<tr>\n",
       "  <th>LGBTQ__Unknown</th>             <td>   -0.2592</td> <td>    0.188</td> <td>   -1.380</td> <td> 0.168</td> <td>   -0.628</td> <td>    0.110</td>\n",
       "</tr>\n",
       "<tr>\n",
       "  <th>LGBTQ__Yes</th>                 <td>   -0.0605</td> <td>    0.086</td> <td>   -0.701</td> <td> 0.484</td> <td>   -0.230</td> <td>    0.109</td>\n",
       "</tr>\n",
       "<tr>\n",
       "  <th>Self_Funder__Yes</th>           <td>    0.1007</td> <td>    0.077</td> <td>    1.311</td> <td> 0.191</td> <td>   -0.050</td> <td>    0.252</td>\n",
       "</tr>\n",
       "<tr>\n",
       "  <th>STEM__Yes</th>                  <td>   -0.1114</td> <td>    0.044</td> <td>   -2.506</td> <td> 0.013</td> <td>   -0.199</td> <td>   -0.024</td>\n",
       "</tr>\n",
       "<tr>\n",
       "  <th>Party_Support__No</th>          <td>   -0.1957</td> <td>    0.057</td> <td>   -3.450</td> <td> 0.001</td> <td>   -0.307</td> <td>   -0.084</td>\n",
       "</tr>\n",
       "<tr>\n",
       "  <th>Party_Support__Yes</th>         <td>    0.4814</td> <td>    0.080</td> <td>    5.988</td> <td> 0.000</td> <td>    0.323</td> <td>    0.639</td>\n",
       "</tr>\n",
       "</table>\n",
       "<table class=\"simpletable\">\n",
       "<tr>\n",
       "  <th>Omnibus:</th>       <td>162.339</td> <th>  Durbin-Watson:     </th> <td>   1.840</td>\n",
       "</tr>\n",
       "<tr>\n",
       "  <th>Prob(Omnibus):</th> <td> 0.000</td>  <th>  Jarque-Bera (JB):  </th> <td>  49.388</td>\n",
       "</tr>\n",
       "<tr>\n",
       "  <th>Skew:</th>          <td> 0.503</td>  <th>  Prob(JB):          </th> <td>1.89e-11</td>\n",
       "</tr>\n",
       "<tr>\n",
       "  <th>Kurtosis:</th>      <td> 1.961</td>  <th>  Cond. No.          </th> <td>    112.</td>\n",
       "</tr>\n",
       "</table><br/><br/>Warnings:<br/>[1] Standard Errors assume that the covariance matrix of the errors is correctly specified."
      ],
      "text/plain": [
       "<class 'statsmodels.iolib.summary.Summary'>\n",
       "\"\"\"\n",
       "                               OLS Regression Results                              \n",
       "===================================================================================\n",
       "Dep. Variable:     Primary_Status_Advanced   R-squared:                       0.258\n",
       "Model:                                 OLS   Adj. R-squared:                  0.242\n",
       "Method:                      Least Squares   F-statistic:                     16.06\n",
       "Date:                     Sat, 01 Dec 2018   Prob (F-statistic):           2.08e-29\n",
       "Time:                             16:35:53   Log-Likelihood:                -294.96\n",
       "No. Observations:                      567   AIC:                             615.9\n",
       "Df Residuals:                          554   BIC:                             672.3\n",
       "Df Model:                               12                                         \n",
       "Covariance Type:                 nonrobust                                         \n",
       "==============================================================================================\n",
       "                                 coef    std err          t      P>|t|      [0.025      0.975]\n",
       "----------------------------------------------------------------------------------------------\n",
       "Intercept                     -0.6897      0.133     -5.176      0.000      -0.951      -0.428\n",
       "Neutral_Endorsements           0.0810      0.012      6.710      0.000       0.057       0.105\n",
       "Yes_Endorsements               0.1701      0.021      8.096      0.000       0.129       0.211\n",
       "Office_Type_Representative     0.1194      0.053      2.248      0.025       0.015       0.224\n",
       "Office_Type_Senator            0.1369      0.120      1.139      0.255      -0.099       0.373\n",
       "Race_White                     0.0501      0.036      1.406      0.160      -0.020       0.120\n",
       "Veteran__Yes                  -0.0454      0.048     -0.942      0.347      -0.140       0.049\n",
       "LGBTQ__Unknown                -0.2592      0.188     -1.380      0.168      -0.628       0.110\n",
       "LGBTQ__Yes                    -0.0605      0.086     -0.701      0.484      -0.230       0.109\n",
       "Self_Funder__Yes               0.1007      0.077      1.311      0.191      -0.050       0.252\n",
       "STEM__Yes                     -0.1114      0.044     -2.506      0.013      -0.199      -0.024\n",
       "Party_Support__No             -0.1957      0.057     -3.450      0.001      -0.307      -0.084\n",
       "Party_Support__Yes             0.4814      0.080      5.988      0.000       0.323       0.639\n",
       "==============================================================================\n",
       "Omnibus:                      162.339   Durbin-Watson:                   1.840\n",
       "Prob(Omnibus):                  0.000   Jarque-Bera (JB):               49.388\n",
       "Skew:                           0.503   Prob(JB):                     1.89e-11\n",
       "Kurtosis:                       1.961   Cond. No.                         112.\n",
       "==============================================================================\n",
       "\n",
       "Warnings:\n",
       "[1] Standard Errors assume that the covariance matrix of the errors is correctly specified.\n",
       "\"\"\""
      ]
     },
     "execution_count": 116,
     "metadata": {},
     "output_type": "execute_result"
    }
   ],
   "source": [
    "multiple = smf.ols(formula2, data=train_features).fit()\n",
    "# Then, use the `.summary()` method of your model to print our information about your model\n",
    "multiple.summary()"
   ]
  },
  {
   "cell_type": "code",
   "execution_count": null,
   "metadata": {},
   "outputs": [],
   "source": []
  }
 ],
 "metadata": {
  "kernelspec": {
   "display_name": "Python 3",
   "language": "python",
   "name": "python3"
  },
  "language_info": {
   "codemirror_mode": {
    "name": "ipython",
    "version": 3
   },
   "file_extension": ".py",
   "mimetype": "text/x-python",
   "name": "python",
   "nbconvert_exporter": "python",
   "pygments_lexer": "ipython3",
   "version": "3.6.5"
  }
 },
 "nbformat": 4,
 "nbformat_minor": 2
}
