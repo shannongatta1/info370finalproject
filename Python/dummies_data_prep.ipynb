{
 "cells": [
  {
   "cell_type": "code",
   "execution_count": 41,
   "metadata": {},
   "outputs": [],
   "source": [
    "import pandas as pd\n",
    "dems = pd.read_csv('../data/dems_with_endorsement_counts.csv')"
   ]
  },
  {
   "cell_type": "code",
   "execution_count": 42,
   "metadata": {},
   "outputs": [
    {
     "data": {
      "text/plain": [
       "['Emily.Endorsed.',\n",
       " 'Guns.Sense.Candidate.',\n",
       " 'Biden.Endorsed.',\n",
       " 'Warren.Endorsed.',\n",
       " 'Sanders.Endorsed.',\n",
       " 'Our.Revolution.Endorsed.',\n",
       " 'Justice.Dems.Endorsed.',\n",
       " 'PCCC.Endorsed.',\n",
       " 'Indivisible.Endorsed.',\n",
       " 'WFP.Endorsed.',\n",
       " 'VoteVets.Endorsed.',\n",
       " 'No.Labels.Support.']"
      ]
     },
     "execution_count": 42,
     "metadata": {},
     "output_type": "execute_result"
    }
   ],
   "source": [
    "cols_to_drop = list(dems.iloc[:, 15:27])\n",
    "cols_to_drop"
   ]
  },
  {
   "cell_type": "code",
   "execution_count": 43,
   "metadata": {},
   "outputs": [],
   "source": [
    "cols_to_drop.extend(['District', 'Primary.Runoff.Status', 'Election.Month'])"
   ]
  },
  {
   "cell_type": "code",
   "execution_count": 44,
   "metadata": {},
   "outputs": [
    {
     "name": "stdout",
     "output_type": "stream",
     "text": [
      "['Emily.Endorsed.', 'Guns.Sense.Candidate.', 'Biden.Endorsed.', 'Warren.Endorsed.', 'Sanders.Endorsed.', 'Our.Revolution.Endorsed.', 'Justice.Dems.Endorsed.', 'PCCC.Endorsed.', 'Indivisible.Endorsed.', 'WFP.Endorsed.', 'VoteVets.Endorsed.', 'No.Labels.Support.', 'District', 'Primary.Runoff.Status', 'Election.Month']\n"
     ]
    }
   ],
   "source": [
    "print(cols_to_drop)"
   ]
  },
  {
   "cell_type": "code",
   "execution_count": 45,
   "metadata": {},
   "outputs": [],
   "source": [
    "# Remove candidate, district\n",
    "dems = dems.drop(cols_to_drop, axis=1)"
   ]
  },
  {
   "cell_type": "code",
   "execution_count": 46,
   "metadata": {},
   "outputs": [
    {
     "data": {
      "text/plain": [
       "['Candidate',\n",
       " 'State',\n",
       " 'Office.Type',\n",
       " 'Primary.Status',\n",
       " 'Primary..',\n",
       " 'Race',\n",
       " 'Veteran.',\n",
       " 'LGBTQ.',\n",
       " 'Elected.Official.',\n",
       " 'Self.Funder.',\n",
       " 'STEM.',\n",
       " 'Obama.Alum.',\n",
       " 'Party.Support.',\n",
       " 'Neutral.Endorsements',\n",
       " 'Yes.Endorsements',\n",
       " 'No.Endorsements']"
      ]
     },
     "execution_count": 46,
     "metadata": {},
     "output_type": "execute_result"
    }
   ],
   "source": [
    "list(dems)"
   ]
  },
  {
   "cell_type": "code",
   "execution_count": 47,
   "metadata": {},
   "outputs": [],
   "source": [
    "cols_to_encode = ['Office.Type', 'Primary.Status', 'Race', 'Veteran.', 'LGBTQ.', 'Elected.Official.', 'Self.Funder.', 'STEM.', 'Obama.Alum.', 'Party.Support.']"
   ]
  },
  {
   "cell_type": "code",
   "execution_count": 48,
   "metadata": {},
   "outputs": [],
   "source": [
    "# Create dummy variables for categorical variables (One Hot Encoding)\n",
    "dems = pd.get_dummies(dems, columns = cols_to_encode)"
   ]
  },
  {
   "cell_type": "code",
   "execution_count": 49,
   "metadata": {},
   "outputs": [
    {
     "data": {
      "text/plain": [
       "['Candidate',\n",
       " 'State',\n",
       " 'Primary..',\n",
       " 'Neutral.Endorsements',\n",
       " 'Yes.Endorsements',\n",
       " 'No.Endorsements',\n",
       " 'Office.Type_Governor',\n",
       " 'Office.Type_Representative',\n",
       " 'Office.Type_Senator',\n",
       " 'Primary.Status_Advanced',\n",
       " 'Primary.Status_Lost',\n",
       " 'Race_Nonwhite',\n",
       " 'Race_Unknown',\n",
       " 'Race_White',\n",
       " 'Veteran._No',\n",
       " 'Veteran._Unknown',\n",
       " 'Veteran._Yes',\n",
       " 'LGBTQ._No',\n",
       " 'LGBTQ._Unknown',\n",
       " 'LGBTQ._Yes',\n",
       " 'Elected.Official._No',\n",
       " 'Elected.Official._Yes',\n",
       " 'Self.Funder._No',\n",
       " 'Self.Funder._Yes',\n",
       " 'STEM._No',\n",
       " 'STEM._Unknown',\n",
       " 'STEM._Yes',\n",
       " 'Obama.Alum._No',\n",
       " 'Obama.Alum._Yes',\n",
       " 'Party.Support._Neutral',\n",
       " 'Party.Support._No',\n",
       " 'Party.Support._Yes']"
      ]
     },
     "execution_count": 49,
     "metadata": {},
     "output_type": "execute_result"
    }
   ],
   "source": [
    "list(dems)"
   ]
  },
  {
   "cell_type": "code",
   "execution_count": 50,
   "metadata": {},
   "outputs": [],
   "source": [
    "# Remove columns for binary variables\n",
    "drop = ['Primary.Status_Lost', 'Elected.Official._No', 'Self.Funder._No', 'Obama.Alum._No']\n",
    "dems = dems.drop(drop, axis = 1)"
   ]
  },
  {
   "cell_type": "code",
   "execution_count": 52,
   "metadata": {},
   "outputs": [
    {
     "data": {
      "text/plain": [
       "['Candidate',\n",
       " 'State',\n",
       " 'Primary..',\n",
       " 'Neutral.Endorsements',\n",
       " 'Yes.Endorsements',\n",
       " 'No.Endorsements',\n",
       " 'Office.Type_Governor',\n",
       " 'Office.Type_Representative',\n",
       " 'Office.Type_Senator',\n",
       " 'Primary.Status_Advanced',\n",
       " 'Race_Nonwhite',\n",
       " 'Race_Unknown',\n",
       " 'Race_White',\n",
       " 'Veteran._No',\n",
       " 'Veteran._Unknown',\n",
       " 'Veteran._Yes',\n",
       " 'LGBTQ._No',\n",
       " 'LGBTQ._Unknown',\n",
       " 'LGBTQ._Yes',\n",
       " 'Elected.Official._Yes',\n",
       " 'Self.Funder._Yes',\n",
       " 'STEM._No',\n",
       " 'STEM._Unknown',\n",
       " 'STEM._Yes',\n",
       " 'Obama.Alum._Yes',\n",
       " 'Party.Support._Neutral',\n",
       " 'Party.Support._No',\n",
       " 'Party.Support._Yes']"
      ]
     },
     "execution_count": 52,
     "metadata": {},
     "output_type": "execute_result"
    }
   ],
   "source": [
    "list(dems)"
   ]
  },
  {
   "cell_type": "code",
   "execution_count": 53,
   "metadata": {},
   "outputs": [],
   "source": [
    "col_names = {}\n",
    "for name in list(dems):\n",
    "    col_names[name] = name.replace('.', '_')"
   ]
  },
  {
   "cell_type": "code",
   "execution_count": 55,
   "metadata": {},
   "outputs": [
    {
     "data": {
      "text/plain": [
       "{'Candidate': 'Candidate',\n",
       " 'State': 'State',\n",
       " 'Primary..': 'Primary__',\n",
       " 'Neutral.Endorsements': 'Neutral_Endorsements',\n",
       " 'Yes.Endorsements': 'Yes_Endorsements',\n",
       " 'No.Endorsements': 'No_Endorsements',\n",
       " 'Office.Type_Governor': 'Office_Type_Governor',\n",
       " 'Office.Type_Representative': 'Office_Type_Representative',\n",
       " 'Office.Type_Senator': 'Office_Type_Senator',\n",
       " 'Primary.Status_Advanced': 'Primary_Status_Advanced',\n",
       " 'Race_Nonwhite': 'Race_Nonwhite',\n",
       " 'Race_Unknown': 'Race_Unknown',\n",
       " 'Race_White': 'Race_White',\n",
       " 'Veteran._No': 'Veteran__No',\n",
       " 'Veteran._Unknown': 'Veteran__Unknown',\n",
       " 'Veteran._Yes': 'Veteran__Yes',\n",
       " 'LGBTQ._No': 'LGBTQ__No',\n",
       " 'LGBTQ._Unknown': 'LGBTQ__Unknown',\n",
       " 'LGBTQ._Yes': 'LGBTQ__Yes',\n",
       " 'Elected.Official._Yes': 'Elected_Official__Yes',\n",
       " 'Self.Funder._Yes': 'Self_Funder__Yes',\n",
       " 'STEM._No': 'STEM__No',\n",
       " 'STEM._Unknown': 'STEM__Unknown',\n",
       " 'STEM._Yes': 'STEM__Yes',\n",
       " 'Obama.Alum._Yes': 'Obama_Alum__Yes',\n",
       " 'Party.Support._Neutral': 'Party_Support__Neutral',\n",
       " 'Party.Support._No': 'Party_Support__No',\n",
       " 'Party.Support._Yes': 'Party_Support__Yes'}"
      ]
     },
     "execution_count": 55,
     "metadata": {},
     "output_type": "execute_result"
    }
   ],
   "source": [
    "col_names"
   ]
  },
  {
   "cell_type": "code",
   "execution_count": 56,
   "metadata": {},
   "outputs": [],
   "source": [
    "col_names['Primary..'] = 'Primary_Vote_Percentage'"
   ]
  },
  {
   "cell_type": "code",
   "execution_count": 57,
   "metadata": {},
   "outputs": [],
   "source": [
    "dems = dems.rename(index=str, columns=col_names)"
   ]
  },
  {
   "cell_type": "code",
   "execution_count": 58,
   "metadata": {},
   "outputs": [
    {
     "data": {
      "text/plain": [
       "['Candidate',\n",
       " 'State',\n",
       " 'Primary_Vote_Percentage',\n",
       " 'Neutral_Endorsements',\n",
       " 'Yes_Endorsements',\n",
       " 'No_Endorsements',\n",
       " 'Office_Type_Governor',\n",
       " 'Office_Type_Representative',\n",
       " 'Office_Type_Senator',\n",
       " 'Primary_Status_Advanced',\n",
       " 'Race_Nonwhite',\n",
       " 'Race_Unknown',\n",
       " 'Race_White',\n",
       " 'Veteran__No',\n",
       " 'Veteran__Unknown',\n",
       " 'Veteran__Yes',\n",
       " 'LGBTQ__No',\n",
       " 'LGBTQ__Unknown',\n",
       " 'LGBTQ__Yes',\n",
       " 'Elected_Official__Yes',\n",
       " 'Self_Funder__Yes',\n",
       " 'STEM__No',\n",
       " 'STEM__Unknown',\n",
       " 'STEM__Yes',\n",
       " 'Obama_Alum__Yes',\n",
       " 'Party_Support__Neutral',\n",
       " 'Party_Support__No',\n",
       " 'Party_Support__Yes']"
      ]
     },
     "execution_count": 58,
     "metadata": {},
     "output_type": "execute_result"
    }
   ],
   "source": [
    "list(dems)"
   ]
  },
  {
   "cell_type": "code",
   "execution_count": 80,
   "metadata": {},
   "outputs": [],
   "source": [
    "dems.to_csv('./data/dem_with_dummies.csv')"
   ]
  },
  {
   "cell_type": "code",
   "execution_count": 40,
   "metadata": {},
   "outputs": [
    {
     "data": {
      "text/plain": [
       "['Candidate',\n",
       " 'State',\n",
       " 'Primary_Vote_Percentage',\n",
       " 'Neutral_Endorsements',\n",
       " 'Yes_Endorsements',\n",
       " 'No_Endorsements',\n",
       " 'Office_Type_Governor',\n",
       " 'Office_Type_Representative',\n",
       " 'Office_Type_Senator',\n",
       " 'Primary_Status_Advanced',\n",
       " 'Primary_Status_Lost',\n",
       " 'Race_Nonwhite',\n",
       " 'Race_Unknown',\n",
       " 'Race_White',\n",
       " 'Veteran__No',\n",
       " 'Veteran__Unknown',\n",
       " 'Veteran__Yes',\n",
       " 'LGBTQ__No',\n",
       " 'LGBTQ__Unknown',\n",
       " 'LGBTQ__Yes',\n",
       " 'Elected_Official__No',\n",
       " 'Elected_Official__Yes',\n",
       " 'Self_Funder__No',\n",
       " 'Self_Funder__Yes',\n",
       " 'STEM__No',\n",
       " 'STEM__Unknown',\n",
       " 'STEM__Yes',\n",
       " 'Obama_Alum__No',\n",
       " 'Obama_Alum__Yes',\n",
       " 'Party_Support__Neutral',\n",
       " 'Party_Support__No',\n",
       " 'Party_Support__Yes']"
      ]
     },
     "execution_count": 40,
     "metadata": {},
     "output_type": "execute_result"
    }
   ],
   "source": [
    "list(dems)"
   ]
  },
  {
   "cell_type": "code",
   "execution_count": 59,
   "metadata": {},
   "outputs": [],
   "source": [
    "dems.to_csv('../data/dem_with_dummies_renamed.csv')"
   ]
  },
  {
   "cell_type": "code",
   "execution_count": 2,
   "metadata": {},
   "outputs": [],
   "source": [
    "candidate_dict = {}\n",
    "for i in range(0, len(dems)):\n",
    "    candidate_dict[i] = dems['Candidate'][i]"
   ]
  },
  {
   "cell_type": "code",
   "execution_count": 3,
   "metadata": {},
   "outputs": [],
   "source": [
    "dems.rename(index=candidate_dict, inplace=True)"
   ]
  }
 ],
 "metadata": {
  "kernelspec": {
   "display_name": "Python 3",
   "language": "python",
   "name": "python3"
  },
  "language_info": {
   "codemirror_mode": {
    "name": "ipython",
    "version": 3
   },
   "file_extension": ".py",
   "mimetype": "text/x-python",
   "name": "python",
   "nbconvert_exporter": "python",
   "pygments_lexer": "ipython3",
   "version": "3.6.5"
  }
 },
 "nbformat": 4,
 "nbformat_minor": 2
}
