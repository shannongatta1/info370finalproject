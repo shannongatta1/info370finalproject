{
 "cells": [
  {
   "cell_type": "code",
   "execution_count": 47,
   "metadata": {},
   "outputs": [],
   "source": [
    "import statsmodels.formula.api as smf\n",
    "from sklearn.model_selection import train_test_split\n",
    "import pandas as pd"
   ]
  },
  {
   "cell_type": "code",
   "execution_count": 40,
   "metadata": {},
   "outputs": [],
   "source": [
    "data = pd.read_csv('../data/dem_with_dummies_renamed.csv')"
   ]
  },
  {
   "cell_type": "code",
   "execution_count": 41,
   "metadata": {},
   "outputs": [],
   "source": [
    "data = data.drop(['Unnamed: 0', 'Candidate', 'State', 'Primary_Vote_Percentage'], axis = 1)"
   ]
  },
  {
   "cell_type": "code",
   "execution_count": 32,
   "metadata": {},
   "outputs": [],
   "source": [
    "colnames = list(data)"
   ]
  },
  {
   "cell_type": "code",
   "execution_count": 42,
   "metadata": {},
   "outputs": [],
   "source": [
    "formula = \"Primary_Status_Advanced ~ \"\n",
    "for name in colnames:\n",
    "    if(name != 'Primary_Status_Advanced'):\n",
    "        formula = formula + name + \" + \""
   ]
  },
  {
   "cell_type": "code",
   "execution_count": 44,
   "metadata": {},
   "outputs": [],
   "source": [
    "formula = formula[0:-3]"
   ]
  },
  {
   "cell_type": "code",
   "execution_count": 62,
   "metadata": {},
   "outputs": [
    {
     "data": {
      "text/plain": [
       "'Primary_Status_Advanced ~ Neutral_Endorsements + Yes_Endorsements + No_Endorsements + Office_Type_Governor + Office_Type_Representative + Office_Type_Senator + Race_Nonwhite + Race_Unknown + Race_White + Veteran__No + Veteran__Unknown + Veteran__Yes + LGBTQ__No + LGBTQ__Unknown + LGBTQ__Yes + Elected_Official__Yes + Self_Funder__Yes + STEM__No + STEM__Unknown + STEM__Yes + Obama_Alum__Yes + Party_Support__Neutral + Party_Support__No + Party_Support__Yes'"
      ]
     },
     "execution_count": 62,
     "metadata": {},
     "output_type": "execute_result"
    }
   ],
   "source": [
    "formula"
   ]
  },
  {
   "cell_type": "code",
   "execution_count": 64,
   "metadata": {},
   "outputs": [],
   "source": [
    "train_features, test_features, train_outcome, test_outcome = train_test_split(\n",
    "    data.drop('Primary_Status_Advanced', axis=1),\n",
    "    data['Primary_Status_Advanced'],\n",
    "    test_size = 0.3,\n",
    "    random_state = 11\n",
    ")"
   ]
  },
  {
   "cell_type": "code",
   "execution_count": 65,
   "metadata": {},
   "outputs": [],
   "source": [
    "train_features['Primary_Status_Advanced'] = (train_outcome).to_frame()"
   ]
  },
  {
   "cell_type": "code",
   "execution_count": 119,
   "metadata": {},
   "outputs": [],
   "source": [
    "formula2 = 'Primary_Status_Advanced ~ Neutral_Endorsements + Yes_Endorsements + Office_Type_Representative + Office_Type_Senator + Race_White + Veteran__Yes + LGBTQ__Unknown + LGBTQ__Yes + Elected_Official__Yes + Self_Funder__Yes + STEM__Yes + Party_Support__No + Party_Support__Yes'\n"
   ]
  },
  {
   "cell_type": "code",
   "execution_count": 120,
   "metadata": {},
   "outputs": [
    {
     "data": {
      "text/html": [
       "<table class=\"simpletable\">\n",
       "<caption>OLS Regression Results</caption>\n",
       "<tr>\n",
       "  <th>Dep. Variable:</th>    <td>Primary_Status_Advanced</td> <th>  R-squared:         </th> <td>   0.261</td>\n",
       "</tr>\n",
       "<tr>\n",
       "  <th>Model:</th>                      <td>OLS</td>           <th>  Adj. R-squared:    </th> <td>   0.243</td>\n",
       "</tr>\n",
       "<tr>\n",
       "  <th>Method:</th>                <td>Least Squares</td>      <th>  F-statistic:       </th> <td>   14.99</td>\n",
       "</tr>\n",
       "<tr>\n",
       "  <th>Date:</th>                <td>Sat, 01 Dec 2018</td>     <th>  Prob (F-statistic):</th> <td>3.63e-29</td>\n",
       "</tr>\n",
       "<tr>\n",
       "  <th>Time:</th>                    <td>16:36:14</td>         <th>  Log-Likelihood:    </th> <td> -294.03</td>\n",
       "</tr>\n",
       "<tr>\n",
       "  <th>No. Observations:</th>         <td>   567</td>          <th>  AIC:               </th> <td>   616.1</td>\n",
       "</tr>\n",
       "<tr>\n",
       "  <th>Df Residuals:</th>             <td>   553</td>          <th>  BIC:               </th> <td>   676.8</td>\n",
       "</tr>\n",
       "<tr>\n",
       "  <th>Df Model:</th>                 <td>    13</td>          <th>                     </th>     <td> </td>   \n",
       "</tr>\n",
       "<tr>\n",
       "  <th>Covariance Type:</th>         <td>nonrobust</td>        <th>                     </th>     <td> </td>   \n",
       "</tr>\n",
       "</table>\n",
       "<table class=\"simpletable\">\n",
       "<tr>\n",
       "               <td></td>                 <th>coef</th>     <th>std err</th>      <th>t</th>      <th>P>|t|</th>  <th>[0.025</th>    <th>0.975]</th>  \n",
       "</tr>\n",
       "<tr>\n",
       "  <th>Intercept</th>                  <td>   -0.7229</td> <td>    0.135</td> <td>   -5.339</td> <td> 0.000</td> <td>   -0.989</td> <td>   -0.457</td>\n",
       "</tr>\n",
       "<tr>\n",
       "  <th>Neutral_Endorsements</th>       <td>    0.0813</td> <td>    0.012</td> <td>    6.738</td> <td> 0.000</td> <td>    0.058</td> <td>    0.105</td>\n",
       "</tr>\n",
       "<tr>\n",
       "  <th>Yes_Endorsements</th>           <td>    0.1682</td> <td>    0.021</td> <td>    7.994</td> <td> 0.000</td> <td>    0.127</td> <td>    0.210</td>\n",
       "</tr>\n",
       "<tr>\n",
       "  <th>Office_Type_Representative</th> <td>    0.1399</td> <td>    0.055</td> <td>    2.534</td> <td> 0.012</td> <td>    0.031</td> <td>    0.248</td>\n",
       "</tr>\n",
       "<tr>\n",
       "  <th>Office_Type_Senator</th>        <td>    0.1357</td> <td>    0.120</td> <td>    1.130</td> <td> 0.259</td> <td>   -0.100</td> <td>    0.372</td>\n",
       "</tr>\n",
       "<tr>\n",
       "  <th>Race_White</th>                 <td>    0.0519</td> <td>    0.036</td> <td>    1.457</td> <td> 0.146</td> <td>   -0.018</td> <td>    0.122</td>\n",
       "</tr>\n",
       "<tr>\n",
       "  <th>Veteran__Yes</th>               <td>   -0.0432</td> <td>    0.048</td> <td>   -0.897</td> <td> 0.370</td> <td>   -0.138</td> <td>    0.051</td>\n",
       "</tr>\n",
       "<tr>\n",
       "  <th>LGBTQ__Unknown</th>             <td>   -0.2453</td> <td>    0.188</td> <td>   -1.304</td> <td> 0.193</td> <td>   -0.615</td> <td>    0.124</td>\n",
       "</tr>\n",
       "<tr>\n",
       "  <th>LGBTQ__Yes</th>                 <td>   -0.0599</td> <td>    0.086</td> <td>   -0.693</td> <td> 0.488</td> <td>   -0.229</td> <td>    0.110</td>\n",
       "</tr>\n",
       "<tr>\n",
       "  <th>Elected_Official__Yes</th>      <td>    0.0682</td> <td>    0.051</td> <td>    1.349</td> <td> 0.178</td> <td>   -0.031</td> <td>    0.167</td>\n",
       "</tr>\n",
       "<tr>\n",
       "  <th>Self_Funder__Yes</th>           <td>    0.1083</td> <td>    0.077</td> <td>    1.406</td> <td> 0.160</td> <td>   -0.043</td> <td>    0.260</td>\n",
       "</tr>\n",
       "<tr>\n",
       "  <th>STEM__Yes</th>                  <td>   -0.1054</td> <td>    0.045</td> <td>   -2.360</td> <td> 0.019</td> <td>   -0.193</td> <td>   -0.018</td>\n",
       "</tr>\n",
       "<tr>\n",
       "  <th>Party_Support__No</th>          <td>   -0.1894</td> <td>    0.057</td> <td>   -3.330</td> <td> 0.001</td> <td>   -0.301</td> <td>   -0.078</td>\n",
       "</tr>\n",
       "<tr>\n",
       "  <th>Party_Support__Yes</th>         <td>    0.4722</td> <td>    0.081</td> <td>    5.858</td> <td> 0.000</td> <td>    0.314</td> <td>    0.631</td>\n",
       "</tr>\n",
       "</table>\n",
       "<table class=\"simpletable\">\n",
       "<tr>\n",
       "  <th>Omnibus:</th>       <td>156.976</td> <th>  Durbin-Watson:     </th> <td>   1.837</td>\n",
       "</tr>\n",
       "<tr>\n",
       "  <th>Prob(Omnibus):</th> <td> 0.000</td>  <th>  Jarque-Bera (JB):  </th> <td>  47.875</td>\n",
       "</tr>\n",
       "<tr>\n",
       "  <th>Skew:</th>          <td> 0.490</td>  <th>  Prob(JB):          </th> <td>4.02e-11</td>\n",
       "</tr>\n",
       "<tr>\n",
       "  <th>Kurtosis:</th>      <td> 1.967</td>  <th>  Cond. No.          </th> <td>    112.</td>\n",
       "</tr>\n",
       "</table><br/><br/>Warnings:<br/>[1] Standard Errors assume that the covariance matrix of the errors is correctly specified."
      ],
      "text/plain": [
       "<class 'statsmodels.iolib.summary.Summary'>\n",
       "\"\"\"\n",
       "                               OLS Regression Results                              \n",
       "===================================================================================\n",
       "Dep. Variable:     Primary_Status_Advanced   R-squared:                       0.261\n",
       "Model:                                 OLS   Adj. R-squared:                  0.243\n",
       "Method:                      Least Squares   F-statistic:                     14.99\n",
       "Date:                     Sat, 01 Dec 2018   Prob (F-statistic):           3.63e-29\n",
       "Time:                             16:36:14   Log-Likelihood:                -294.03\n",
       "No. Observations:                      567   AIC:                             616.1\n",
       "Df Residuals:                          553   BIC:                             676.8\n",
       "Df Model:                               13                                         \n",
       "Covariance Type:                 nonrobust                                         \n",
       "==============================================================================================\n",
       "                                 coef    std err          t      P>|t|      [0.025      0.975]\n",
       "----------------------------------------------------------------------------------------------\n",
       "Intercept                     -0.7229      0.135     -5.339      0.000      -0.989      -0.457\n",
       "Neutral_Endorsements           0.0813      0.012      6.738      0.000       0.058       0.105\n",
       "Yes_Endorsements               0.1682      0.021      7.994      0.000       0.127       0.210\n",
       "Office_Type_Representative     0.1399      0.055      2.534      0.012       0.031       0.248\n",
       "Office_Type_Senator            0.1357      0.120      1.130      0.259      -0.100       0.372\n",
       "Race_White                     0.0519      0.036      1.457      0.146      -0.018       0.122\n",
       "Veteran__Yes                  -0.0432      0.048     -0.897      0.370      -0.138       0.051\n",
       "LGBTQ__Unknown                -0.2453      0.188     -1.304      0.193      -0.615       0.124\n",
       "LGBTQ__Yes                    -0.0599      0.086     -0.693      0.488      -0.229       0.110\n",
       "Elected_Official__Yes          0.0682      0.051      1.349      0.178      -0.031       0.167\n",
       "Self_Funder__Yes               0.1083      0.077      1.406      0.160      -0.043       0.260\n",
       "STEM__Yes                     -0.1054      0.045     -2.360      0.019      -0.193      -0.018\n",
       "Party_Support__No             -0.1894      0.057     -3.330      0.001      -0.301      -0.078\n",
       "Party_Support__Yes             0.4722      0.081      5.858      0.000       0.314       0.631\n",
       "==============================================================================\n",
       "Omnibus:                      156.976   Durbin-Watson:                   1.837\n",
       "Prob(Omnibus):                  0.000   Jarque-Bera (JB):               47.875\n",
       "Skew:                           0.490   Prob(JB):                     4.02e-11\n",
       "Kurtosis:                       1.967   Cond. No.                         112.\n",
       "==============================================================================\n",
       "\n",
       "Warnings:\n",
       "[1] Standard Errors assume that the covariance matrix of the errors is correctly specified.\n",
       "\"\"\""
      ]
     },
     "execution_count": 120,
     "metadata": {},
     "output_type": "execute_result"
    }
   ],
   "source": [
    "multiple = smf.ols(formula2, data=train_features).fit()\n",
    "# Then, use the `.summary()` method of your model to print our information about your model\n",
    "multiple.summary()"
   ]
  },
  {
   "cell_type": "code",
   "execution_count": null,
   "metadata": {},
   "outputs": [],
   "source": []
  }
 ],
 "metadata": {
  "kernelspec": {
   "display_name": "Python 3",
   "language": "python",
   "name": "python3"
  },
  "language_info": {
   "codemirror_mode": {
    "name": "ipython",
    "version": 3
   },
   "file_extension": ".py",
   "mimetype": "text/x-python",
   "name": "python",
   "nbconvert_exporter": "python",
   "pygments_lexer": "ipython3",
   "version": "3.6.5"
  }
 },
 "nbformat": 4,
 "nbformat_minor": 2
}
