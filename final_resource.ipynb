{
 "cells": [
  {
   "cell_type": "markdown",
   "metadata": {},
   "source": [
    "# Final Resource Analysis"
   ]
  },
  {
   "cell_type": "markdown",
   "metadata": {},
   "source": [
    "### By: Shannon Gatta, Andrea Jorge, Chen Manija, Julia Zaratan"
   ]
  },
  {
   "cell_type": "code",
   "execution_count": 10,
   "metadata": {},
   "outputs": [],
   "source": [
    "import numpy as np\n",
    "import pandas as pd\n",
    "import seaborn as sns # for visualiation\n",
    "import matplotlib.pyplot as plt # plotting\n",
    "import matplotlib\n",
    "matplotlib.style.use('ggplot')\n",
    "%matplotlib inline\n",
    "from sklearn.model_selection import train_test_split\n",
    "\n",
    "# scalers used \n",
    "from sklearn.preprocessing import MinMaxScaler\n",
    "from sklearn.preprocessing import RobustScaler\n",
    "from sklearn.preprocessing import Normalizer\n",
    "\n",
    "# for validation\n",
    "from sklearn.metrics import mean_absolute_error\n",
    "\n",
    "# for feature selection \n",
    "from sklearn.feature_selection import SelectKBest\n",
    "from sklearn.feature_selection import f_regression\n",
    "from sklearn.feature_selection import f_regression\n",
    "from sklearn.datasets import make_regression\n",
    "\n",
    "# models\n",
    "from sklearn.neighbors import KNeighborsRegressor\n",
    "from sklearn.neural_network import MLPRegressor\n",
    "from sklearn.svm import SVR\n",
    "from sklearn.ensemble import RandomForestRegressor\n",
    "\n",
    "#for best model parameter selection\n",
    "from sklearn.model_selection import GridSearchCV\n",
    "from sklearn.pipeline import make_pipeline \n",
    "\n",
    "## Supress warnings thrown by any of the models\n",
    "from sklearn.exceptions import DataConversionWarning\n",
    "from sklearn.exceptions import ConvergenceWarning\n",
    "from sklearn import warnings\n",
    "warnings.filterwarnings(action='ignore', category=DataConversionWarning)\n",
    "warnings.filterwarnings(action='ignore', category=ConvergenceWarning)\n",
    "warnings.filterwarnings(action='ignore', category=DeprecationWarning)\n",
    "\n",
    "#load data\n",
    "dems = pd.read_csv('./data/dem_with_dummies.csv', index_col = (0,1,2))"
   ]
  },
  {
   "cell_type": "code",
   "execution_count": 11,
   "metadata": {},
   "outputs": [],
   "source": [
    "list(df)\n",
    "\n",
    "dems_substrain = dems.head(600)\n",
    "dem_subtest = dems.tail(dems.shape[0]- 600)"
   ]
  },
  {
   "cell_type": "code",
   "execution_count": 12,
   "metadata": {},
   "outputs": [],
   "source": [
    "tr_feat, test_feat, tr_out, test_out = train_test_split(\n",
    "   dems_substrain.drop(columns='Primary.Status_Advanced'), # features\n",
    "   dems_substrain[\"Primary.Status_Advanced\"],  # outcome\n",
    "   test_size=0.30, # percentage of data to use as the test set\n",
    "   random_state=11\n",
    "\n",
    "   \n",
    ")"
   ]
  },
  {
   "cell_type": "markdown",
   "metadata": {},
   "source": [
    "## Machine Learning\n"
   ]
  },
  {
   "cell_type": "markdown",
   "metadata": {},
   "source": [
    "### KNN Classifier"
   ]
  },
  {
   "cell_type": "code",
   "execution_count": 18,
   "metadata": {},
   "outputs": [
    {
     "data": {
      "text/plain": [
       "0.4184930411134221"
      ]
     },
     "execution_count": 18,
     "metadata": {},
     "output_type": "execute_result"
    }
   ],
   "source": [
    "min_max_scaler = MinMaxScaler()\n",
    "knn_reg = KNeighborsRegressor()\n",
    "select_k_best = SelectKBest(f_regression)\n",
    "knn_pipe = make_pipeline(min_max_scaler, select_k_best, knn_reg)\n",
    "\n",
    "knn_param_grid = {\n",
    "            'kneighborsregressor__n_neighbors': range(1, 50),\n",
    "                       'kneighborsregressor__weights':[\"uniform\", \"distance\"],\n",
    "                       'kneighborsregressor__algorithm':['auto'],\n",
    "                       'kneighborsregressor__leaf_size':[20, 30, 50, 100]\n",
    "                      }\n",
    "\n",
    "# Perform a  grid search of your pipeline\n",
    "knn_grid_skb = GridSearchCV(knn_pipe, knn_param_grid)\n",
    "knn_grid_skb.fit(tr_feat, tr_out)\n",
    "knn_grid_skb.score(test_feat, test_out)"
   ]
  },
  {
   "cell_type": "code",
   "execution_count": 19,
   "metadata": {},
   "outputs": [
    {
     "data": {
      "text/plain": [
       "{'kneighborsregressor__algorithm': 'auto',\n",
       " 'kneighborsregressor__leaf_size': 20,\n",
       " 'kneighborsregressor__n_neighbors': 6,\n",
       " 'kneighborsregressor__weights': 'uniform'}"
      ]
     },
     "execution_count": 19,
     "metadata": {},
     "output_type": "execute_result"
    }
   ],
   "source": [
    "knn_grid_skb.best_params_"
   ]
  },
  {
   "cell_type": "code",
   "execution_count": 21,
   "metadata": {},
   "outputs": [],
   "source": [
    "knn_tuned = KNeighborsRegressor(algorithm='auto', leaf_size=20,n_neighbors=6, weights='uniform')"
   ]
  },
  {
   "cell_type": "code",
   "execution_count": 23,
   "metadata": {},
   "outputs": [
    {
     "data": {
      "text/plain": [
       "KNeighborsRegressor(algorithm='auto', leaf_size=20, metric='minkowski',\n",
       "          metric_params=None, n_jobs=1, n_neighbors=6, p=2,\n",
       "          weights='uniform')"
      ]
     },
     "execution_count": 23,
     "metadata": {},
     "output_type": "execute_result"
    }
   ],
   "source": [
    "knn_tuned.fit(tr_feat, tr_out)"
   ]
  },
  {
   "cell_type": "code",
   "execution_count": 24,
   "metadata": {},
   "outputs": [
    {
     "data": {
      "text/plain": [
       "0.5296752519596866"
      ]
     },
     "execution_count": 24,
     "metadata": {},
     "output_type": "execute_result"
    }
   ],
   "source": [
    "knn_tuned.score(test_feat, test_out)"
   ]
  },
  {
   "cell_type": "code",
   "execution_count": null,
   "metadata": {},
   "outputs": [],
   "source": [
    "accuracy = pd.DataFrame(columns=['Model Type', 'Score'])\n",
    "\n",
    "# rows to add\n",
    "add_a_row(['KNN', knn_grid_skb.score(test_feat, test_out)*(-1)], accuracy)\n",
    "add_a_row(['RFR', for_grid_skb.score(test_feat, test_out)*(-1)], accuracy)\n",
    "add_a_row(['MLP', mlp_grid_skb.score(test_feat, test_out)*(-1)], accuracy)\n",
    "add_a_row(['SVR', svr_grid_skb.score(test_feat, test_out)*(-1)], accuracy)"
   ]
  }
 ],
 "metadata": {
  "kernelspec": {
   "display_name": "Python 3",
   "language": "python",
   "name": "python3"
  },
  "language_info": {
   "codemirror_mode": {
    "name": "ipython",
    "version": 3
   },
   "file_extension": ".py",
   "mimetype": "text/x-python",
   "name": "python",
   "nbconvert_exporter": "python",
   "pygments_lexer": "ipython3",
   "version": "3.6.5"
  }
 },
 "nbformat": 4,
 "nbformat_minor": 2
}
